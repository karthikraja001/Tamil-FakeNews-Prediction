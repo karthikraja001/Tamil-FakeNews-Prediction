{
 "cells": [
  {
   "cell_type": "code",
   "execution_count": null,
   "id": "9ee7d25b",
   "metadata": {},
   "outputs": [],
   "source": [
    "!pip install deep-translator"
   ]
  },
  {
   "cell_type": "code",
   "execution_count": null,
   "id": "507b0fd9",
   "metadata": {},
   "outputs": [],
   "source": [
    "!pip install selenium"
   ]
  },
  {
   "cell_type": "code",
   "execution_count": 1,
   "id": "ce828343",
   "metadata": {},
   "outputs": [],
   "source": [
    "import pandas as pd"
   ]
  },
  {
   "cell_type": "code",
   "execution_count": 2,
   "id": "c6d2f3c1",
   "metadata": {},
   "outputs": [],
   "source": [
    "from bs4 import BeautifulSoup as bs"
   ]
  },
  {
   "cell_type": "code",
   "execution_count": 3,
   "id": "e1f8704d",
   "metadata": {},
   "outputs": [],
   "source": [
    "import requests"
   ]
  },
  {
   "cell_type": "code",
   "execution_count": 4,
   "id": "2010efd4",
   "metadata": {},
   "outputs": [],
   "source": [
    "from selenium import webdriver\n",
    "from selenium.webdriver.common.desired_capabilities import DesiredCapabilities\n",
    "from selenium.webdriver.support.ui import WebDriverWait\n",
    "from selenium.webdriver.support import expected_conditions as EC\n",
    "from selenium.webdriver.common.by import By\n",
    "from selenium.webdriver.chrome.options import Options\n",
    "\n",
    "chrome_options = Options()\n",
    "chrome_options.add_experimental_option(\"detach\", True)\n",
    "\n",
    "capa = DesiredCapabilities.CHROME\n",
    "capa[\"pageLoadStrategy\"] = \"none\""
   ]
  },
  {
   "cell_type": "code",
   "execution_count": 5,
   "id": "f325faec",
   "metadata": {},
   "outputs": [],
   "source": []
  },
  {
   "cell_type": "code",
   "execution_count": 6,
   "id": "d0daec17",
   "metadata": {},
   "outputs": [],
   "source": [
    "# from deep_translator import GoogleTranslator"
   ]
  },
  {
   "cell_type": "code",
   "execution_count": 7,
   "id": "c1f6aa24",
   "metadata": {},
   "outputs": [],
   "source": [
    "from time import sleep"
   ]
  },
  {
   "cell_type": "code",
   "execution_count": 8,
   "id": "58c33b76",
   "metadata": {},
   "outputs": [],
   "source": [
    "startYear = 2022\n",
    "startMonth = 1\n",
    "startDate = 1\n",
    "dateRanges = {1:31, 2:29, 3:31, 4:30, 5:31, 6:30, 7:31, 8:31, 9:30, 10:31, 11:30, 12:31}"
   ]
  },
  {
   "cell_type": "code",
   "execution_count": 9,
   "id": "d3692df2",
   "metadata": {},
   "outputs": [],
   "source": [
    "dates = []\n",
    "# for i in range(0, 12):\n",
    "for j in range(0, 12):\n",
    "    for k in range(0, dateRanges[startMonth + j]):\n",
    "        if startDate + k < 10:\n",
    "            currDate = \"0\"+str(startDate+k)\n",
    "        else: currDate = str(startDate+k)\n",
    "        if startMonth + j < 10:\n",
    "            currMonth = \"0\"+str(startMonth+j)    \n",
    "        else: currDate = str(startMonth+j)\n",
    "        dates.append(str(startYear) + \"/\" + currMonth + \"/\" + currDate + \"/\")"
   ]
  },
  {
   "cell_type": "code",
   "execution_count": 10,
   "id": "144b1ed4",
   "metadata": {},
   "outputs": [
    {
     "data": {
      "text/plain": [
       "366"
      ]
     },
     "execution_count": 10,
     "metadata": {},
     "output_type": "execute_result"
    }
   ],
   "source": [
    "len(dates)"
   ]
  },
  {
   "cell_type": "code",
   "execution_count": 11,
   "id": "4a10c856",
   "metadata": {},
   "outputs": [],
   "source": [
    "news = []"
   ]
  },
  {
   "cell_type": "code",
   "execution_count": 14,
   "id": "4fecdbcb",
   "metadata": {},
   "outputs": [
    {
     "name": "stderr",
     "output_type": "stream",
     "text": [
      "<ipython-input-14-de5417e4adb1>:3: DeprecationWarning: executable_path has been deprecated, please pass in a Service object\n",
      "  driver = webdriver.Chrome('./chromedriver.exe', options=chrome_options)\n"
     ]
    },
    {
     "name": "stdout",
     "output_type": "stream",
     "text": [
      "Fetched\t\t 2022/02/29/\n",
      "Fetched\t\t 2022/03/01/\n",
      "Fetched\t\t 2022/03/02/\n",
      "Fetched\t\t 2022/03/03/\n",
      "Fetched\t\t 2022/03/04/\n",
      "Fetched\t\t 2022/03/05/\n",
      "Fetched\t\t 2022/03/06/\n",
      "Fetched\t\t 2022/03/07/\n",
      "Fetched\t\t 2022/03/08/\n",
      "Fetched\t\t 2022/03/09/\n",
      "Fetched\t\t 2022/03/10/\n",
      "Fetched\t\t 2022/03/11/\n",
      "Fetched\t\t 2022/03/12/\n",
      "Fetched\t\t 2022/03/13/\n",
      "Fetched\t\t 2022/03/14/\n",
      "Fetched\t\t 2022/03/15/\n",
      "Fetched\t\t 2022/03/16/\n",
      "Fetched\t\t 2022/03/17/\n",
      "Fetched\t\t 2022/03/18/\n",
      "Fetched\t\t 2022/03/19/\n",
      "Fetched\t\t 2022/03/20/\n",
      "Fetched\t\t 2022/03/21/\n",
      "Fetched\t\t 2022/03/22/\n",
      "Fetched\t\t 2022/03/23/\n",
      "Fetched\t\t 2022/03/24/\n",
      "Fetched\t\t 2022/03/25/\n",
      "Fetched\t\t 2022/03/26/\n",
      "Fetched\t\t 2022/03/27/\n",
      "Fetched\t\t 2022/03/28/\n",
      "Fetched\t\t 2022/03/29/\n",
      "Fetched\t\t 2022/03/30/\n",
      "Fetched\t\t 2022/03/31/\n"
     ]
    }
   ],
   "source": [
    "for day in range(59,59+32):\n",
    "    url = \"https://tamil.oneindia.com/\" + dates[day]\n",
    "    driver = webdriver.Chrome('./chromedriver.exe', options=chrome_options)\n",
    "    driver.get(url)\n",
    "    html = driver.page_source\n",
    "    sleep(4)\n",
    "    soup = bs(html)\n",
    "    driver.close()\n",
    "    for i in soup.findAll('div', {'id':'news-scrollable'}):\n",
    "        for j in i.findAll('section'):\n",
    "            for k in j.findAll('div', {'class' : 'content clearfix'}):\n",
    "                for l in k.findAll('ul', {'class' : 'dayindexTitles'}):\n",
    "                    for m in l.findAll('li'):\n",
    "                        news.append(m.get_text())\n",
    "    print(\"Fetched\\t\\t\", dates[day])"
   ]
  },
  {
   "cell_type": "code",
   "execution_count": 15,
   "id": "5a5132af",
   "metadata": {},
   "outputs": [],
   "source": [
    "df = pd.DataFrame({\"news\" : news})\n",
    "df.to_csv('Mar2022.csv')"
   ]
  },
  {
   "cell_type": "code",
   "execution_count": 14,
   "id": "68aa4934",
   "metadata": {},
   "outputs": [],
   "source": [
    "df = pd.read_csv('Feb2022.csv')\n",
    "tdf = pd.read_csv('C:\\\\Users\\\\HP\\\\Downloads\\\\Feb2022.csv')"
   ]
  },
  {
   "cell_type": "code",
   "execution_count": 15,
   "id": "073777c8",
   "metadata": {},
   "outputs": [],
   "source": [
    "df.columns = ['Index', 'Tamil']\n",
    "tdf.columns = ['Index', 'English']\n",
    "newDf = pd.merge(df, tdf, on='Index')\n",
    "newDf.to_csv('Feb2022.csv')\n",
    "# newDf.head()"
   ]
  },
  {
   "cell_type": "code",
   "execution_count": 24,
   "id": "74646d2a",
   "metadata": {},
   "outputs": [],
   "source": [
    "gdf = pd.read_csv('../../Downloads/Tamil-News-Headlines.csv')"
   ]
  },
  {
   "cell_type": "code",
   "execution_count": 25,
   "id": "1293103e",
   "metadata": {},
   "outputs": [
    {
     "data": {
      "text/html": [
       "<div>\n",
       "<style scoped>\n",
       "    .dataframe tbody tr th:only-of-type {\n",
       "        vertical-align: middle;\n",
       "    }\n",
       "\n",
       "    .dataframe tbody tr th {\n",
       "        vertical-align: top;\n",
       "    }\n",
       "\n",
       "    .dataframe thead th {\n",
       "        text-align: right;\n",
       "    }\n",
       "</style>\n",
       "<table border=\"1\" class=\"dataframe\">\n",
       "  <thead>\n",
       "    <tr style=\"text-align: right;\">\n",
       "      <th></th>\n",
       "      <th>English</th>\n",
       "      <th>Tamil</th>\n",
       "      <th>Is Fake</th>\n",
       "    </tr>\n",
       "  </thead>\n",
       "  <tbody>\n",
       "    <tr>\n",
       "      <th>0</th>\n",
       "      <td>Additional charge for users who share password...</td>\n",
       "      <td>பாஸ்வேர்டை பகிரும் பயனர்களிடம் கூடுதல் கட்டணம...</td>\n",
       "      <td>0</td>\n",
       "    </tr>\n",
       "    <tr>\n",
       "      <th>1</th>\n",
       "      <td>Production of 'AK-203' guns in India by the en...</td>\n",
       "      <td>இந்தியாவில் நடப்பு ஆண்டின் இறுதிக்குள் ‘ஏகே-2...</td>\n",
       "      <td>0</td>\n",
       "    </tr>\n",
       "    <tr>\n",
       "      <th>2</th>\n",
       "      <td>Moto E22s smartphone launched in India at a bu...</td>\n",
       "      <td>பட்ஜெட் விலையில் மோட்டோ E22s ஸ்மார்ட்போன் இந்...</td>\n",
       "      <td>0</td>\n",
       "    </tr>\n",
       "    <tr>\n",
       "      <th>3</th>\n",
       "      <td>Let's make Kalam's last dream come true</td>\n",
       "      <td>கலாம் கண்ட கடைசி கனவை நனவாக்குவோம்</td>\n",
       "      <td>0</td>\n",
       "    </tr>\n",
       "    <tr>\n",
       "      <th>4</th>\n",
       "      <td>Redmi A1+ smartphone launched in India at a bu...</td>\n",
       "      <td>பட்ஜெட் விலையில் ரெட்மி ஏ1+ ஸ்மார்ட்போன் இந்த...</td>\n",
       "      <td>0</td>\n",
       "    </tr>\n",
       "  </tbody>\n",
       "</table>\n",
       "</div>"
      ],
      "text/plain": [
       "                                             English  \\\n",
       "0  Additional charge for users who share password...   \n",
       "1  Production of 'AK-203' guns in India by the en...   \n",
       "2  Moto E22s smartphone launched in India at a bu...   \n",
       "3            Let's make Kalam's last dream come true   \n",
       "4  Redmi A1+ smartphone launched in India at a bu...   \n",
       "\n",
       "                                               Tamil  Is Fake  \n",
       "0   பாஸ்வேர்டை பகிரும் பயனர்களிடம் கூடுதல் கட்டணம...        0  \n",
       "1   இந்தியாவில் நடப்பு ஆண்டின் இறுதிக்குள் ‘ஏகே-2...        0  \n",
       "2   பட்ஜெட் விலையில் மோட்டோ E22s ஸ்மார்ட்போன் இந்...        0  \n",
       "3             கலாம் கண்ட கடைசி கனவை நனவாக்குவோம்           0  \n",
       "4   பட்ஜெட் விலையில் ரெட்மி ஏ1+ ஸ்மார்ட்போன் இந்த...        0  "
      ]
     },
     "execution_count": 25,
     "metadata": {},
     "output_type": "execute_result"
    }
   ],
   "source": [
    "gdf.columns = ['Index', 'English', 'Label', 'Tamil', 'Author', 'Date', 'Is Fake']\n",
    "gdf = gdf.drop(['Index', 'Label', 'Author', 'Date'], axis=1)\n",
    "gdf.head()"
   ]
  },
  {
   "cell_type": "code",
   "execution_count": 47,
   "id": "ba1bb659",
   "metadata": {},
   "outputs": [],
   "source": [
    "import numpy as np\n",
    "# print(np.unique(gdf['Is Fake'].value_counts()))\n",
    "# print(np.unique(df['Is Fake'].value_counts()))"
   ]
  },
  {
   "cell_type": "code",
   "execution_count": 27,
   "id": "8bf563a0",
   "metadata": {},
   "outputs": [],
   "source": [
    "df = pd.DataFrame()"
   ]
  },
  {
   "cell_type": "code",
   "execution_count": 28,
   "id": "7ad8b5fb",
   "metadata": {},
   "outputs": [
    {
     "data": {
      "text/html": [
       "<div>\n",
       "<style scoped>\n",
       "    .dataframe tbody tr th:only-of-type {\n",
       "        vertical-align: middle;\n",
       "    }\n",
       "\n",
       "    .dataframe tbody tr th {\n",
       "        vertical-align: top;\n",
       "    }\n",
       "\n",
       "    .dataframe thead th {\n",
       "        text-align: right;\n",
       "    }\n",
       "</style>\n",
       "<table border=\"1\" class=\"dataframe\">\n",
       "  <thead>\n",
       "    <tr style=\"text-align: right;\">\n",
       "      <th></th>\n",
       "      <th>Unnamed: 0</th>\n",
       "      <th>English</th>\n",
       "      <th>Tamil</th>\n",
       "      <th>Index</th>\n",
       "    </tr>\n",
       "  </thead>\n",
       "  <tbody>\n",
       "    <tr>\n",
       "      <th>0</th>\n",
       "      <td>0</td>\n",
       "      <td>\"There is no precaution\".. Scolded Chief Minis...</td>\n",
       "      <td>சபரிமலையில் குவியும் பக்தர்கள்: ஐயப்பனை இரவு 1...</td>\n",
       "      <td>NaN</td>\n",
       "    </tr>\n",
       "    <tr>\n",
       "      <th>1</th>\n",
       "      <td>1</td>\n",
       "      <td>34 people have corona in Saidapet Govt Trainin...</td>\n",
       "      <td>ஆரியங்காவு தர்மசாஸ்தா அன்னை புஷ்கலா தேவி திரு...</td>\n",
       "      <td>NaN</td>\n",
       "    </tr>\n",
       "    <tr>\n",
       "      <th>2</th>\n",
       "      <td>2</td>\n",
       "      <td>Hanuman Jayanti at Dhanwandri Peedam: 100008 V...</td>\n",
       "      <td>புலிவாகனத்தில் மகரசங்கராந்தி பிரவேசம் - யாருக்...</td>\n",
       "      <td>NaN</td>\n",
       "    </tr>\n",
       "    <tr>\n",
       "      <th>3</th>\n",
       "      <td>3</td>\n",
       "      <td>Happy New Year 2022: Do you know which country...</td>\n",
       "      <td>தன்வந்திரி பீடத்தில் அனுமன் ஜெயந்தி: நாமக்கல் ...</td>\n",
       "      <td>NaN</td>\n",
       "    </tr>\n",
       "    <tr>\n",
       "      <th>4</th>\n",
       "      <td>4</td>\n",
       "      <td>Devotees thronging Sabarimala: Allowed to visi...</td>\n",
       "      <td>தடுப்பூசி போடலியா.. பேங்க், ஹோட்டல் கூட போக மு...</td>\n",
       "      <td>NaN</td>\n",
       "    </tr>\n",
       "  </tbody>\n",
       "</table>\n",
       "</div>"
      ],
      "text/plain": [
       "   Unnamed: 0                                            English  \\\n",
       "0           0  \"There is no precaution\".. Scolded Chief Minis...   \n",
       "1           1  34 people have corona in Saidapet Govt Trainin...   \n",
       "2           2  Hanuman Jayanti at Dhanwandri Peedam: 100008 V...   \n",
       "3           3  Happy New Year 2022: Do you know which country...   \n",
       "4           4  Devotees thronging Sabarimala: Allowed to visi...   \n",
       "\n",
       "                                               Tamil  Index  \n",
       "0  சபரிமலையில் குவியும் பக்தர்கள்: ஐயப்பனை இரவு 1...    NaN  \n",
       "1   ஆரியங்காவு தர்மசாஸ்தா அன்னை புஷ்கலா தேவி திரு...    NaN  \n",
       "2  புலிவாகனத்தில் மகரசங்கராந்தி பிரவேசம் - யாருக்...    NaN  \n",
       "3  தன்வந்திரி பீடத்தில் அனுமன் ஜெயந்தி: நாமக்கல் ...    NaN  \n",
       "4  தடுப்பூசி போடலியா.. பேங்க், ஹோட்டல் கூட போக மு...    NaN  "
      ]
     },
     "execution_count": 28,
     "metadata": {},
     "output_type": "execute_result"
    }
   ],
   "source": [
    "files = ['Jan2022.csv', 'Feb2022.csv', 'Mar2022.csv']\n",
    "dfs = [pd.read_csv(file) for file in files]\n",
    "df = pd.concat(dfs, ignore_index=True)\n",
    "df.head()"
   ]
  },
  {
   "cell_type": "code",
   "execution_count": 30,
   "id": "d61da29d",
   "metadata": {},
   "outputs": [
    {
     "data": {
      "text/html": [
       "<div>\n",
       "<style scoped>\n",
       "    .dataframe tbody tr th:only-of-type {\n",
       "        vertical-align: middle;\n",
       "    }\n",
       "\n",
       "    .dataframe tbody tr th {\n",
       "        vertical-align: top;\n",
       "    }\n",
       "\n",
       "    .dataframe thead th {\n",
       "        text-align: right;\n",
       "    }\n",
       "</style>\n",
       "<table border=\"1\" class=\"dataframe\">\n",
       "  <thead>\n",
       "    <tr style=\"text-align: right;\">\n",
       "      <th></th>\n",
       "      <th>English</th>\n",
       "      <th>Tamil</th>\n",
       "    </tr>\n",
       "  </thead>\n",
       "  <tbody>\n",
       "    <tr>\n",
       "      <th>0</th>\n",
       "      <td>\"There is no precaution\".. Scolded Chief Minis...</td>\n",
       "      <td>சபரிமலையில் குவியும் பக்தர்கள்: ஐயப்பனை இரவு 1...</td>\n",
       "    </tr>\n",
       "    <tr>\n",
       "      <th>1</th>\n",
       "      <td>34 people have corona in Saidapet Govt Trainin...</td>\n",
       "      <td>ஆரியங்காவு தர்மசாஸ்தா அன்னை புஷ்கலா தேவி திரு...</td>\n",
       "    </tr>\n",
       "    <tr>\n",
       "      <th>2</th>\n",
       "      <td>Hanuman Jayanti at Dhanwandri Peedam: 100008 V...</td>\n",
       "      <td>புலிவாகனத்தில் மகரசங்கராந்தி பிரவேசம் - யாருக்...</td>\n",
       "    </tr>\n",
       "    <tr>\n",
       "      <th>3</th>\n",
       "      <td>Happy New Year 2022: Do you know which country...</td>\n",
       "      <td>தன்வந்திரி பீடத்தில் அனுமன் ஜெயந்தி: நாமக்கல் ...</td>\n",
       "    </tr>\n",
       "    <tr>\n",
       "      <th>4</th>\n",
       "      <td>Devotees thronging Sabarimala: Allowed to visi...</td>\n",
       "      <td>தடுப்பூசி போடலியா.. பேங்க், ஹோட்டல் கூட போக மு...</td>\n",
       "    </tr>\n",
       "  </tbody>\n",
       "</table>\n",
       "</div>"
      ],
      "text/plain": [
       "                                             English  \\\n",
       "0  \"There is no precaution\".. Scolded Chief Minis...   \n",
       "1  34 people have corona in Saidapet Govt Trainin...   \n",
       "2  Hanuman Jayanti at Dhanwandri Peedam: 100008 V...   \n",
       "3  Happy New Year 2022: Do you know which country...   \n",
       "4  Devotees thronging Sabarimala: Allowed to visi...   \n",
       "\n",
       "                                               Tamil  \n",
       "0  சபரிமலையில் குவியும் பக்தர்கள்: ஐயப்பனை இரவு 1...  \n",
       "1   ஆரியங்காவு தர்மசாஸ்தா அன்னை புஷ்கலா தேவி திரு...  \n",
       "2  புலிவாகனத்தில் மகரசங்கராந்தி பிரவேசம் - யாருக்...  \n",
       "3  தன்வந்திரி பீடத்தில் அனுமன் ஜெயந்தி: நாமக்கல் ...  \n",
       "4  தடுப்பூசி போடலியா.. பேங்க், ஹோட்டல் கூட போக மு...  "
      ]
     },
     "execution_count": 30,
     "metadata": {},
     "output_type": "execute_result"
    }
   ],
   "source": [
    "df.columns = ['Index', 'English', 'Tamil', 'Index1']\n",
    "df = df.drop(['Index', 'Index1'], axis=1)\n",
    "df.head()"
   ]
  },
  {
   "cell_type": "code",
   "execution_count": 33,
   "id": "0b999057",
   "metadata": {},
   "outputs": [],
   "source": [
    "df['Is Fake'] = 0"
   ]
  },
  {
   "cell_type": "code",
   "execution_count": 34,
   "id": "dbbcfeb3",
   "metadata": {},
   "outputs": [
    {
     "data": {
      "text/html": [
       "<div>\n",
       "<style scoped>\n",
       "    .dataframe tbody tr th:only-of-type {\n",
       "        vertical-align: middle;\n",
       "    }\n",
       "\n",
       "    .dataframe tbody tr th {\n",
       "        vertical-align: top;\n",
       "    }\n",
       "\n",
       "    .dataframe thead th {\n",
       "        text-align: right;\n",
       "    }\n",
       "</style>\n",
       "<table border=\"1\" class=\"dataframe\">\n",
       "  <thead>\n",
       "    <tr style=\"text-align: right;\">\n",
       "      <th></th>\n",
       "      <th>English</th>\n",
       "      <th>Tamil</th>\n",
       "      <th>Is Fake</th>\n",
       "    </tr>\n",
       "  </thead>\n",
       "  <tbody>\n",
       "    <tr>\n",
       "      <th>0</th>\n",
       "      <td>\"There is no precaution\".. Scolded Chief Minis...</td>\n",
       "      <td>சபரிமலையில் குவியும் பக்தர்கள்: ஐயப்பனை இரவு 1...</td>\n",
       "      <td>0</td>\n",
       "    </tr>\n",
       "    <tr>\n",
       "      <th>1</th>\n",
       "      <td>34 people have corona in Saidapet Govt Trainin...</td>\n",
       "      <td>ஆரியங்காவு தர்மசாஸ்தா அன்னை புஷ்கலா தேவி திரு...</td>\n",
       "      <td>0</td>\n",
       "    </tr>\n",
       "    <tr>\n",
       "      <th>2</th>\n",
       "      <td>Hanuman Jayanti at Dhanwandri Peedam: 100008 V...</td>\n",
       "      <td>புலிவாகனத்தில் மகரசங்கராந்தி பிரவேசம் - யாருக்...</td>\n",
       "      <td>0</td>\n",
       "    </tr>\n",
       "    <tr>\n",
       "      <th>3</th>\n",
       "      <td>Happy New Year 2022: Do you know which country...</td>\n",
       "      <td>தன்வந்திரி பீடத்தில் அனுமன் ஜெயந்தி: நாமக்கல் ...</td>\n",
       "      <td>0</td>\n",
       "    </tr>\n",
       "    <tr>\n",
       "      <th>4</th>\n",
       "      <td>Devotees thronging Sabarimala: Allowed to visi...</td>\n",
       "      <td>தடுப்பூசி போடலியா.. பேங்க், ஹோட்டல் கூட போக மு...</td>\n",
       "      <td>0</td>\n",
       "    </tr>\n",
       "  </tbody>\n",
       "</table>\n",
       "</div>"
      ],
      "text/plain": [
       "                                             English  \\\n",
       "0  \"There is no precaution\".. Scolded Chief Minis...   \n",
       "1  34 people have corona in Saidapet Govt Trainin...   \n",
       "2  Hanuman Jayanti at Dhanwandri Peedam: 100008 V...   \n",
       "3  Happy New Year 2022: Do you know which country...   \n",
       "4  Devotees thronging Sabarimala: Allowed to visi...   \n",
       "\n",
       "                                               Tamil  Is Fake  \n",
       "0  சபரிமலையில் குவியும் பக்தர்கள்: ஐயப்பனை இரவு 1...        0  \n",
       "1   ஆரியங்காவு தர்மசாஸ்தா அன்னை புஷ்கலா தேவி திரு...        0  \n",
       "2  புலிவாகனத்தில் மகரசங்கராந்தி பிரவேசம் - யாருக்...        0  \n",
       "3  தன்வந்திரி பீடத்தில் அனுமன் ஜெயந்தி: நாமக்கல் ...        0  \n",
       "4  தடுப்பூசி போடலியா.. பேங்க், ஹோட்டல் கூட போக மு...        0  "
      ]
     },
     "execution_count": 34,
     "metadata": {},
     "output_type": "execute_result"
    }
   ],
   "source": [
    "df.head()"
   ]
  },
  {
   "cell_type": "code",
   "execution_count": 38,
   "id": "82aaf663",
   "metadata": {},
   "outputs": [],
   "source": [
    "finalDf = pd.concat([df, gdf], ignore_index=True)"
   ]
  },
  {
   "cell_type": "code",
   "execution_count": 42,
   "id": "2d9d089f",
   "metadata": {},
   "outputs": [],
   "source": [
    "finalDf.to_csv('TamilFakeAndReal.csv')"
   ]
  },
  {
   "cell_type": "code",
   "execution_count": null,
   "id": "e8eee13f",
   "metadata": {},
   "outputs": [],
   "source": [
    "# num_threads = 16\n",
    "# q = Queue()\n",
    "# translated = []\n",
    "# c = 0\n",
    "# def translate():\n",
    "#     global q\n",
    "#     global c\n",
    "#     while True:\n",
    "#         txt = q.get()\n",
    "#         translated.append(GoogleTranslator(source='tamil', target='en').translate(txt))\n",
    "#         print(\"Translated \", c+1)\n",
    "#         c += 1\n",
    "#         q.task_done()"
   ]
  },
  {
   "cell_type": "code",
   "execution_count": null,
   "id": "131eb104",
   "metadata": {},
   "outputs": [],
   "source": [
    "# startIndex = 0\n",
    "# for i in range(0, len(news), 45):\n",
    "#     txt = '\\n'.join(tmp[startIndex:i])\n",
    "#     startIndex = i\n",
    "#     q.put(txt)\n",
    "\n",
    "# for i in news:\n",
    "#     q.put(i)"
   ]
  },
  {
   "cell_type": "code",
   "execution_count": null,
   "id": "c9ddd312",
   "metadata": {},
   "outputs": [],
   "source": [
    "# print(len(list(q.queue)))"
   ]
  },
  {
   "cell_type": "code",
   "execution_count": null,
   "id": "1fd59a9c",
   "metadata": {},
   "outputs": [],
   "source": [
    "# for t in range(num_threads):\n",
    "#     worker = Thread(target=translate)\n",
    "# #     worker.daemon = True\n",
    "#     worker.start()\n",
    "\n",
    "# q.join()"
   ]
  },
  {
   "cell_type": "code",
   "execution_count": null,
   "id": "22b96eac",
   "metadata": {},
   "outputs": [],
   "source": [
    "# df = pd.DataFrame({'English' : translated, 'Tamil' : news, })"
   ]
  },
  {
   "cell_type": "code",
   "execution_count": null,
   "id": "900ff957",
   "metadata": {},
   "outputs": [],
   "source": [
    "# df.to_csv('Feb2022.csv')"
   ]
  }
 ],
 "metadata": {
  "kernelspec": {
   "display_name": "Python 3",
   "language": "python",
   "name": "python3"
  },
  "language_info": {
   "codemirror_mode": {
    "name": "ipython",
    "version": 3
   },
   "file_extension": ".py",
   "mimetype": "text/x-python",
   "name": "python",
   "nbconvert_exporter": "python",
   "pygments_lexer": "ipython3",
   "version": "3.8.8"
  }
 },
 "nbformat": 4,
 "nbformat_minor": 5
}
